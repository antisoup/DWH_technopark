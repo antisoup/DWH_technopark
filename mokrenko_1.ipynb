{
 "cells": [
  {
   "cell_type": "code",
   "execution_count": 29,
   "metadata": {},
   "outputs": [],
   "source": [
    "user_data_path = \"/user/n.mokrenko/data_1/trainDemography\"\n",
    "country_data_path = \"/user/n.mokrenko/data_1/geography/countries.csv\"\n",
    "current_dt = \"2019-05-01\"\n",
    "output_path = \"/user/n.mokrenko/hometask_1\""
   ]
  },
  {
   "cell_type": "code",
   "execution_count": 30,
   "metadata": {},
   "outputs": [],
   "source": [
    "from pyspark.sql.types import *\n",
    "import pyspark.sql.functions as sf\n",
    "from datetime import datetime"
   ]
  },
  {
   "cell_type": "markdown",
   "metadata": {},
   "source": [
    "### Переводим current_dt в unix time"
   ]
  },
  {
   "cell_type": "code",
   "execution_count": 31,
   "metadata": {},
   "outputs": [],
   "source": [
    "current_dt_unix = datetime.strptime(str(current_dt), \"%Y-%m-%d\")\n",
    "unix_time = datetime.strptime(\"01.01.1970\", \"%d.%m.%Y\")\n",
    "cur_dt = ((current_dt_unix - unix_time).days)"
   ]
  },
  {
   "cell_type": "markdown",
   "metadata": {},
   "source": [
    "### Создаем два датафрейма из countries.csv и trainDemography"
   ]
  },
  {
   "cell_type": "code",
   "execution_count": 32,
   "metadata": {},
   "outputs": [],
   "source": [
    "cntr_df = spark.read.csv(country_data_path).toDF('ID_country', 'name_country')\n",
    "df = spark.read.csv(user_data_path, header=False, sep = '\\t').toDF(\n",
    "    'userId','create_date','birth_date','gender','ID_country','ID_location', 'loginRegion', 'isInGraph') # задаем названия колонок\n"
   ]
  },
  {
   "cell_type": "markdown",
   "metadata": {},
   "source": [
    "### Создаем новый датафрейм, исходя из требований к заданию"
   ]
  },
  {
   "cell_type": "code",
   "execution_count": 33,
   "metadata": {},
   "outputs": [],
   "source": [
    "cnt_cond = lambda cond: sf.sum(sf.when(cond, 1).otherwise(0)) # функция проверки соответсвия значения ячейки значению cond\n",
    "share_cond = lambda cond: sf.round(sf.sum(sf.when(cond, 1).otherwise(0))/sf.count('gender'), 2) # функция для подсчета доли различных гендеров в столбце gender\n",
    "new_df = df.join(cntr_df, df.ID_country == cntr_df.ID_country, 'left').withColumn( # присоединяем таблицу-справочник countries по id страны\n",
    "    'age', sf.round((cur_dt - df.birth_date)/365.25)).groupBy(\"name_country\").agg( # добавляем столбец \"age\", в который записываем разницу между current_dt и датой рождения заказчика   \n",
    "    sf.round(sf.avg('age'), 2).alias('age_avg'), # считаем средний возраст заказчика\n",
    "    sf.count('userId').alias('usr_cnt'), # считаем количество пользователей\n",
    "    cnt_cond(sf.col('gender') == 1).alias('men_cnt'), # считаем количество пользователей - мужчин\n",
    "    cnt_cond(sf.col('gender') == 2).alias('women_cnt'), # считаем количество пользователей - женщин\n",
    "    share_cond(sf.col('gender') == 1).alias('men_share'), # считаем долю мужчин\n",
    "    share_cond(sf.col('gender') == 2).alias('women_share') # считаем долю женщин\n",
    ").orderBy(sf.desc('usr_cnt')) # сортируем по количеству пользователей в порядке убывания"
   ]
  },
  {
   "cell_type": "markdown",
   "metadata": {},
   "source": [
    "### Создаем csv с нашим окончательным датафреймом и записываем его в output path"
   ]
  },
  {
   "cell_type": "code",
   "execution_count": 24,
   "metadata": {},
   "outputs": [],
   "source": [
    "new_df.sortWithinPartitions(sf.desc('usr_cnt')).coalesce(1).write.csv(path=output_path, mode=\"overwrite\", sep=\"\\t\", header=True)"
   ]
  },
  {
   "cell_type": "markdown",
   "metadata": {},
   "source": [
    "### Проверка"
   ]
  },
  {
   "cell_type": "code",
   "execution_count": 25,
   "metadata": {},
   "outputs": [
    {
     "name": "stdout",
     "output_type": "stream",
     "text": [
      "+------------+-------+-------+-------+---------+---------+-----------+\n",
      "|name_country|age_avg|usr_cnt|men_cnt|women_cnt|men_share|women_share|\n",
      "+------------+-------+-------+-------+---------+---------+-----------+\n",
      "|      Россия|  37.36|3335808|1252716|  2083092|     0.38|       0.62|\n",
      "|     Украина|  38.43| 843680| 252132|   591548|      0.3|        0.7|\n",
      "|  Узбекистан|  29.46| 309207| 229318|    79889|     0.74|       0.26|\n",
      "|     Молдова|  34.08| 195608|  85112|   110496|     0.44|       0.56|\n",
      "|    Беларусь|  36.66| 152167|  46828|   105339|     0.31|       0.69|\n",
      "|   Казахстан|  38.52| 147144|  46653|   100491|     0.32|       0.68|\n",
      "| Азербайджан|  31.14| 130537| 110039|    20498|     0.84|       0.16|\n",
      "|      Грузия|  36.34| 118147|  64222|    53925|     0.54|       0.46|\n",
      "| Таджикистан|  28.93|  84599|  70083|    14516|     0.83|       0.17|\n",
      "|  Кыргызстан|  29.61|  83021|  39998|    43023|     0.48|       0.52|\n",
      "+------------+-------+-------+-------+---------+---------+-----------+\n",
      "only showing top 10 rows"
     ]
    }
   ],
   "source": [
    "q = spark.read.csv(output_path, header=True, sep = '\\t').show(10)"
   ]
  }
 ],
 "metadata": {
  "kernelspec": {
   "display_name": "PySpark",
   "language": "",
   "name": "pysparkkernel"
  },
  "language_info": {
   "codemirror_mode": {
    "name": "python",
    "version": 2
   },
   "mimetype": "text/x-python",
   "name": "pyspark",
   "pygments_lexer": "python2"
  }
 },
 "nbformat": 4,
 "nbformat_minor": 2
}
